{
  "cells": [
    {
      "cell_type": "markdown",
      "metadata": {
        "id": "BZHOfP4hO8Vj"
      },
      "source": [
        "# Prueba Intertrimestral\n",
        "\n",
        "**Nombre:**  \n",
        "**Apellidos:**  \n",
        "\n",
        "**Tiempo de la prueba:** 2 horas  \n",
        "**Asignatura:** Desarrollo de Aplicaciones para la Visualización de Datos  \n",
        "**Fecha:** 16 de octubre de 2025  \n",
        "\n",
        "## Instrucciones\n",
        "\n",
        "- Escribe **código limpio y autoexplicativo**.  \n",
        "- Se pueden utilizar **los materiales de clase**.  \n",
        "- Se puede utilizar **internet** para búsqueda de dudas y documentación.  \n",
        "- **No se puede utilizar ningún tipo de LLM** (ChatGPT, Copilot, Gemini, etc.).  \n",
        "- **No se puede utilizar mensajería instantánea**.  \n",
        "- Al finalizar, **sube tu notebook a GitHub** y envía el enlace del fichero en el siguiente formulario:  \n",
        "[https://forms.office.com/e/LFVwu9z6uQ](https://forms.office.com/e/LFVwu9z6uQ)\n",
        "\n",
        "\n",
        "## Dataset “Life Style Data”\n",
        "\n",
        "El dataset contiene información sobre hábitos de vida (alimentación, sueño, ejercicio, consumo de tabaco o alcohol, etc.) y medidas de salud (IMC, presión arterial, etc.) para diferentes individuos.\n",
        "\n",
        "Puedes descargarlo del repositorio de la asignatura y un .txt con la descripción de las variables.\n"
      ]
    },
    {
      "cell_type": "markdown",
      "metadata": {
        "id": "pAyOgtngSm8l"
      },
      "source": [
        "## Inicialización de librerías"
      ]
    },
    {
      "cell_type": "code",
      "execution_count": 115,
      "metadata": {
        "id": "rUSOV34cSmDn"
      },
      "outputs": [],
      "source": [
        "\n",
        "import pandas as pd\n",
        "import numpy as np\n",
        "import matplotlib.pyplot as plt\n",
        "import seaborn as sns\n",
        "from sklearn.model_selection import train_test_split\n",
        "from sklearn.preprocessing import StandardScaler\n",
        "from sklearn.linear_model import ElasticNet, LinearRegression, LogisticRegression\n",
        "from sklearn.svm import LinearSVC\n",
        "from sklearn.ensemble import RandomForestRegressor, RandomForestClassifier\n",
        "from sklearn.cluster import KMeans, DBSCAN\n",
        "from sklearn.neighbors import NearestNeighbors\n",
        "from sklearn.metrics import (\n",
        "    r2_score,\n",
        "    mean_absolute_error,\n",
        "    mean_squared_error,\n",
        "    classification_report,\n",
        "    confusion_matrix,\n",
        "    silhouette_score\n",
        ")\n",
        "\n"
      ]
    },
    {
      "cell_type": "markdown",
      "metadata": {
        "id": "otirxiJrSsEC"
      },
      "source": [
        "# Ejercicio 1 — Programación (2 puntos)\n",
        "\n",
        "a) (0.6 pts) Crea una función imc(weight, height) que devuelva el índice de masa corporal (IMC), redondeado a dos decimales.\n",
        "\n"
      ]
    },
    {
      "cell_type": "code",
      "execution_count": 38,
      "metadata": {
        "id": "3N45WKtkS6-A"
      },
      "outputs": [
        {
          "data": {
            "text/plain": [
              "24.151672503320853"
            ]
          },
          "execution_count": 38,
          "metadata": {},
          "output_type": "execute_result"
        }
      ],
      "source": [
        "# Crear una función que calcule el índice de masa corporal (IMC) = peso (kg) / altura (m)^2\n",
        "\n",
        "# Primero definimos las funciones necesarias\n",
        "def imc(weight, height):\n",
        "    return weight / (height ** 2)\n",
        "\n",
        "imc(80,1.82)"
      ]
    },
    {
      "cell_type": "markdown",
      "metadata": {
        "id": "BLBDCknMS7TE"
      },
      "source": [
        "b) (0.6 pts) Crea una función saludable(imcValue) que devuelva \"Saludable\" si el IMC está entre 18.5 y 24.9, \"Bajo peso\" si es menor de 18.5, o \"Sobrepeso\" si es mayor de 24.9."
      ]
    },
    {
      "cell_type": "code",
      "execution_count": 43,
      "metadata": {
        "id": "WDhSuYXLS9Fz"
      },
      "outputs": [
        {
          "data": {
            "text/plain": [
              "'Sobrepeso'"
            ]
          },
          "execution_count": 43,
          "metadata": {},
          "output_type": "execute_result"
        }
      ],
      "source": [
        "def saludable(imcValue):\n",
        "    if imcValue < 18.5:\n",
        "        return \"Bajo peso\"\n",
        "    elif 18.5 <= imcValue < 25:\n",
        "        return \"Normal\"\n",
        "    else: \n",
        "        return \"Sobrepeso\"\n",
        "\n",
        "saludable(30)\n"
      ]
    },
    {
      "cell_type": "markdown",
      "metadata": {
        "id": "KjQkJdhLS9dO"
      },
      "source": [
        "c) (0.6 pts) Genera un DataFrame llamado imcData que contenga al menos 10 registros con las siguientes columnas:\n",
        "\n",
        "\n",
        "*   peso (en kilogramos)\n",
        "\n",
        "*   altura (en metros)\n",
        "\n",
        "*   imc (calculado usando la función imc(weight, height) creada anteriormente)\n",
        "\n",
        "Puedes generar los datos de peso y altura manualmente, mediante listas, o de forma aleatoria utilizando numpy (np.random.uniform o similar).\n",
        "\n",
        "Añade una cuarta columna llamada categoria, cuyos valores provengan de la función saludable(imcValue).\n",
        "\n",
        "Muestra las primeras filas del DataFrame resultante y comprueba que los tipos de datos son correctos."
      ]
    },
    {
      "cell_type": "code",
      "execution_count": 45,
      "metadata": {
        "id": "sN09MzT_TGWv"
      },
      "outputs": [
        {
          "name": "stdout",
          "output_type": "stream",
          "text": [
            "Tipos de datos:\n",
            "peso         float64\n",
            "altura       float64\n",
            "imc          float64\n",
            "categoria     object\n",
            "dtype: object\n",
            "Información del DataFrame:\n",
            "<class 'pandas.core.frame.DataFrame'>\n",
            "RangeIndex: 10 entries, 0 to 9\n",
            "Data columns (total 4 columns):\n",
            " #   Column     Non-Null Count  Dtype  \n",
            "---  ------     --------------  -----  \n",
            " 0   peso       10 non-null     float64\n",
            " 1   altura     10 non-null     float64\n",
            " 2   imc        10 non-null     float64\n",
            " 3   categoria  10 non-null     object \n",
            "dtypes: float64(3), object(1)\n",
            "memory usage: 452.0+ bytes\n",
            "None\n"
          ]
        }
      ],
      "source": [
        "# Generamos datos aleatorios\n",
        "np.random.seed(42)  # Para reproducibilidad\n",
        "peso = np.random.uniform(50, 100, 10)  # Pesos entre 50 y 100 kg\n",
        "altura = np.random.uniform(1.50, 1.90, 10)  # Alturas entre 1.50 y 1.90 m\n",
        "\n",
        "# Creamos el DataFrame\n",
        "imcData = pd.DataFrame({\n",
        "    'peso': peso,\n",
        "    'altura': altura,\n",
        "    'imc': [imc(p, a) for p, a in zip(peso, altura)],\n",
        "    'categoria': [saludable(imc(p, a)) for p, a in zip(peso, altura)]\n",
        "})\n",
        "\n",
        "# Mostramos las primeras filas\n",
        "imcData.head(5)\n",
        "\n",
        "# Verificamos los tipos de datos\n",
        "print(\"Tipos de datos:\")\n",
        "print(imcData.dtypes)\n",
        "\n",
        "# Información adicional del DataFrame\n",
        "print(\"Información del DataFrame:\")\n",
        "print(imcData.info())\n",
        "\n",
        "\n",
        "\n",
        "\n",
        "\n",
        "\n",
        "\n"
      ]
    },
    {
      "cell_type": "markdown",
      "metadata": {
        "id": "uqaLQ7v3TGqI"
      },
      "source": [
        "d) (0.2 pts) ¿Cómo podrías integrar ambas funciones dentro de una clase llamada HealthTools que calcule el IMC y clasifique automáticamente a partir de listas de pesos y alturas?"
      ]
    },
    {
      "cell_type": "code",
      "execution_count": 47,
      "metadata": {
        "id": "ac1ReJOvTuS9"
      },
      "outputs": [
        {
          "name": "stdout",
          "output_type": "stream",
          "text": [
            "DataFrame generado con HealthTools:\n",
            "        peso    altura        imc  categoria\n",
            "0  68.727006  1.508234  30.212738   Obesidad\n",
            "1  97.535715  1.887964  27.363792  Sobrepeso\n",
            "2  86.599697  1.832977  25.775216  Sobrepeso\n",
            "3  79.932924  1.584936  31.820166   Obesidad\n",
            "4  57.800932  1.572730  23.368267     Normal\n",
            "5  57.799726  1.573362  23.349016     Normal\n",
            "6  52.904181  1.621697  20.116417     Normal\n",
            "7  93.308807  1.709903  31.913902   Obesidad\n",
            "8  80.055751  1.672778  28.609872  Sobrepeso\n",
            "9  85.403629  1.616492  32.683563   Obesidad\n",
            "\n",
            "============================================================\n",
            "\n",
            "Ejemplo de cálculo individual:\n",
            "Peso: 70 kg\n",
            "Altura: 1.75 m\n",
            "IMC: 22.86\n",
            "Categoría: Normal\n"
          ]
        }
      ],
      "source": [
        "\n",
        "\n",
        "class HealthTools:\n",
        "    \n",
        "    def __init__(self):\n",
        "        pass\n",
        "    \n",
        "    def imc(self, weight, height):\n",
        "        return weight / (height ** 2)\n",
        "    \n",
        "    def saludable(self, imcValue):\n",
        "        if imcValue < 18.5:\n",
        "            return \"Bajo peso\"\n",
        "        elif 18.5 <= imcValue < 25:\n",
        "            return \"Normal\"\n",
        "        elif 25 <= imcValue < 30:\n",
        "            return \"Sobrepeso\"\n",
        "        else:\n",
        "            return \"Obesidad\"\n",
        "    \n",
        "    def procesar_datos(self, pesos, alturas):\n",
        "        # Calculamos el IMC para cada par peso-altura\n",
        "        imcs = [self.imc(p, a) for p, a in zip(pesos, alturas)]\n",
        "        \n",
        "        # Clasificamos cada IMC\n",
        "        categorias = [self.saludable(imc_val) for imc_val in imcs]\n",
        "        \n",
        "        # Creamos el DataFrame\n",
        "        df = pd.DataFrame({\n",
        "            'peso': pesos,\n",
        "            'altura': alturas,\n",
        "            'imc': imcs,\n",
        "            'categoria': categorias\n",
        "        })\n",
        "        \n",
        "        return df\n",
        "\n",
        "\n",
        "# Ejemplo de uso\n",
        "if __name__ == \"__main__\":\n",
        "    # Creamos una instancia de la clase\n",
        "    health = HealthTools()\n",
        "    \n",
        "    # Generamos datos de ejemplo\n",
        "    np.random.seed(42)\n",
        "    pesos = np.random.uniform(50, 100, 10)\n",
        "    alturas = np.random.uniform(1.50, 1.90, 10)\n",
        "    \n",
        "    # Procesamos los datos\n",
        "    imcData = health.procesar_datos(pesos, alturas)\n",
        "    \n",
        "    print(\"DataFrame generado con HealthTools:\")\n",
        "    print(imcData)\n",
        "    print(\"\\n\" + \"=\"*60 + \"\\n\")\n",
        "    \n",
        "    # Ejemplo de uso individual\n",
        "    print(\"Ejemplo de cálculo individual:\")\n",
        "    peso_ejemplo = 70\n",
        "    altura_ejemplo = 1.75\n",
        "    imc_ejemplo = health.imc(peso_ejemplo, altura_ejemplo)\n",
        "    categoria_ejemplo = health.saludable(imc_ejemplo)\n",
        "    \n",
        "    print(f\"Peso: {peso_ejemplo} kg\")\n",
        "    print(f\"Altura: {altura_ejemplo} m\")\n",
        "    print(f\"IMC: {imc_ejemplo:.2f}\")\n",
        "    print(f\"Categoría: {categoria_ejemplo}\")\n",
        "    "
      ]
    },
    {
      "cell_type": "markdown",
      "metadata": {
        "id": "_KNWF6NGTxLR"
      },
      "source": [
        "## Ejercicio 2 — Exploración y visualización (3 puntos)\n",
        "\n",
        "a) (0.75 pts) Carga el dataset desde el fichero CSV y guárdalo en un DataFrame llamado lifeStyleData. Muestra las 5 primeras filas, el número de filas y columnas."
      ]
    },
    {
      "cell_type": "code",
      "execution_count": 49,
      "metadata": {
        "id": "l907uB6pT4qS"
      },
      "outputs": [
        {
          "name": "stdout",
          "output_type": "stream",
          "text": [
            "Primeras 5 filas del dataset:\n",
            "     Age  Gender  Weight (kg)  Height (m)  Max_BPM  Avg_BPM  Resting_BPM  \\\n",
            "0  34.91    Male        65.27        1.62   188.58   157.65        69.05   \n",
            "1  23.37  Female        56.41        1.55   179.43   131.75        73.18   \n",
            "2  33.20  Female        58.98        1.67   175.04   123.95        54.96   \n",
            "3  38.69  Female        93.78        1.70   191.21   155.10        50.07   \n",
            "4  45.09    Male        52.42        1.88   193.58   152.88        70.84   \n",
            "\n",
            "   Session_Duration (hours)  Calories_Burned Workout_Type  ...  \\\n",
            "0                      1.00          1080.90     Strength  ...   \n",
            "1                      1.37          1809.91         HIIT  ...   \n",
            "2                      0.91           802.26       Cardio  ...   \n",
            "3                      1.10          1450.79         HIIT  ...   \n",
            "4                      1.08          1166.40     Strength  ...   \n",
            "\n",
            "   cal_from_macros  pct_carbs  protein_per_kg   pct_HRR  pct_maxHR  \\\n",
            "0          2139.59   0.500432        1.624789  0.741237   0.835985   \n",
            "1          1711.65   0.500850        1.514093  0.551247   0.734270   \n",
            "2          1965.92   0.500610        1.663445  0.574534   0.708124   \n",
            "3          1627.28   0.499533        0.862017  0.744155   0.811150   \n",
            "4          2659.23   0.500581        2.538153  0.668405   0.789751   \n",
            "\n",
            "   cal_balance  lean_mass_kg  expected_burn  Burns Calories (per 30 min)_bc  \\\n",
            "0       725.10     47.777394       685.1600                    7.260425e+19   \n",
            "1      -232.91     40.809803       978.6184                    1.020506e+20   \n",
            "2       805.74     44.635580       654.5266                    1.079607e+20   \n",
            "3      1206.21     63.007432       773.6300                    8.987921e+19   \n",
            "4       303.60     43.347504       711.4176                    5.264685e+19   \n",
            "\n",
            "   Burns_Calories_Bin  \n",
            "0              Medium  \n",
            "1                High  \n",
            "2                High  \n",
            "3                High  \n",
            "4                 Low  \n",
            "\n",
            "[5 rows x 54 columns]\n",
            "\n",
            "Número de filas y columnas:\n",
            "(20000, 54)\n"
          ]
        }
      ],
      "source": [
        "# Carga el dataset desde el fichero CSV y guárdalo en un DataFrame llamado lifeStyleData. Muestra las 5 primeras filas, el número de filas y columnas.\n",
        "def load_and_display_data(file_path):\n",
        "    # Cargar el dataset\n",
        "    lifeStyleData = pd.read_csv(file_path)\n",
        "    \n",
        "    # Mostrar las 5 primeras filas\n",
        "    print(\"Primeras 5 filas del dataset:\")\n",
        "    print(lifeStyleData.head(5))\n",
        "    \n",
        "    # Mostrar el número de filas y columnas\n",
        "    print(\"\\nNúmero de filas y columnas:\")\n",
        "    print(lifeStyleData.shape)\n",
        "    \n",
        "    return lifeStyleData\n",
        "\n",
        "lifeStyleData = load_and_display_data('Final_data.csv')\n"
      ]
    },
    {
      "cell_type": "markdown",
      "metadata": {
        "id": "JlpQNR-CT49v"
      },
      "source": [
        "b) (0.75 pts) Crea una función describeData(dataFrame) que devuelva para cada columna: tipo de dato, número de valores nulos y porcentaje de nulos."
      ]
    },
    {
      "cell_type": "code",
      "execution_count": 68,
      "metadata": {
        "id": "oXcuxp6mT8iA"
      },
      "outputs": [
        {
          "name": "stdout",
          "output_type": "stream",
          "text": [
            "                           columna tipo_dato  valores_nulos  porcentaje_nulos\n",
            "0                              Age   float64              0               0.0\n",
            "1                           Gender    object              0               0.0\n",
            "2                      Weight (kg)   float64              0               0.0\n",
            "3                       Height (m)   float64              0               0.0\n",
            "4                          Max_BPM   float64              1               0.0\n",
            "5                          Avg_BPM   float64              1               0.0\n",
            "6                      Resting_BPM   float64              0               0.0\n",
            "7         Session_Duration (hours)   float64              0               0.0\n",
            "8                  Calories_Burned   float64              0               0.0\n",
            "9                     Workout_Type    object              0               0.0\n",
            "10                  Fat_Percentage   float64              0               0.0\n",
            "11           Water_Intake (liters)   float64              0               0.0\n",
            "12   Workout_Frequency (days/week)   float64              0               0.0\n",
            "13                Experience_Level   float64              0               0.0\n",
            "14                             BMI   float64              0               0.0\n",
            "15           Daily meals frequency   float64              0               0.0\n",
            "16               Physical exercise   float64              0               0.0\n",
            "17                           Carbs   float64              0               0.0\n",
            "18                        Proteins   float64              0               0.0\n",
            "19                            Fats   float64              0               0.0\n",
            "20                        Calories   float64              0               0.0\n",
            "21                       meal_name    object              0               0.0\n",
            "22                       meal_type    object              0               0.0\n",
            "23                       diet_type    object              0               0.0\n",
            "24                         sugar_g   float64              0               0.0\n",
            "25                       sodium_mg   float64              0               0.0\n",
            "26                  cholesterol_mg   float64              1               0.0\n",
            "27                  serving_size_g   float64              0               0.0\n",
            "28                  cooking_method    object              0               0.0\n",
            "29                   prep_time_min   float64              0               0.0\n",
            "30                   cook_time_min   float64              0               0.0\n",
            "31                          rating   float64              0               0.0\n",
            "32                Name of Exercise    object              0               0.0\n",
            "33                            Sets   float64              0               0.0\n",
            "34                            Reps   float64              0               0.0\n",
            "35                         Benefit    object              0               0.0\n",
            "36     Burns Calories (per 30 min)   float64              0               0.0\n",
            "37             Target Muscle Group    object              0               0.0\n",
            "38                Equipment Needed    object              0               0.0\n",
            "39                Difficulty Level    object              0               0.0\n",
            "40                       Body Part    object              0               0.0\n",
            "41                  Type of Muscle    object              0               0.0\n",
            "42                         Workout    object              0               0.0\n",
            "43                        BMI_calc   float64              0               0.0\n",
            "44                 cal_from_macros   float64              0               0.0\n",
            "45                       pct_carbs   float64              0               0.0\n",
            "46                  protein_per_kg   float64              0               0.0\n",
            "47                         pct_HRR   float64              0               0.0\n",
            "48                       pct_maxHR   float64              0               0.0\n",
            "49                     cal_balance   float64              0               0.0\n",
            "50                    lean_mass_kg   float64              0               0.0\n",
            "51                   expected_burn   float64              0               0.0\n",
            "52  Burns Calories (per 30 min)_bc   float64              0               0.0\n",
            "53              Burns_Calories_Bin    object              0               0.0\n"
          ]
        }
      ],
      "source": [
        "def describeData(dataFrame):\n",
        "\n",
        "    # Creamos un diccionario para almacenar la información\n",
        "    info = {\n",
        "        'columna': [],\n",
        "        'tipo_dato': [],\n",
        "        'valores_nulos': [],\n",
        "        'porcentaje_nulos': []\n",
        "    }\n",
        "    \n",
        "    # Recorremos cada columna del DataFrame\n",
        "    for columna in dataFrame.columns:\n",
        "        info['columna'].append(columna)\n",
        "        info['tipo_dato'].append(str(dataFrame[columna].dtype))\n",
        "        \n",
        "        # Calculamos valores nulos\n",
        "        nulos = dataFrame[columna].isnull().sum()\n",
        "        info['valores_nulos'].append(nulos)\n",
        "        \n",
        "        # Calculamos porcentaje de nulos\n",
        "        total_registros = len(dataFrame)\n",
        "        porcentaje = (nulos / total_registros) * 100 if total_registros > 0 else 0\n",
        "        info['porcentaje_nulos'].append(round(porcentaje, 2))\n",
        "    \n",
        "    # Convertimos a DataFrame\n",
        "    resultado = pd.DataFrame(info)\n",
        "    \n",
        "    return resultado\n",
        "\n",
        "resultado = describeData(lifeStyleData)\n",
        "print(resultado)\n"
      ]
    },
    {
      "cell_type": "markdown",
      "metadata": {
        "id": "mHjSdK4oT7Yp"
      },
      "source": [
        "c) (0.75 pts) Usa describeData(lifeStyleData) y comenta brevemente (2–3 líneas) qué variables parecen tener más valores faltantes."
      ]
    },
    {
      "cell_type": "code",
      "execution_count": 69,
      "metadata": {
        "id": "bgMOXwrbT-Du"
      },
      "outputs": [
        {
          "name": "stdout",
          "output_type": "stream",
          "text": [
            "Las variables con valores nulos son: ['Max_BPM', 'Avg_BPM', 'cholesterol_mg']\n"
          ]
        }
      ],
      "source": [
        "variables_con_nulos = []\n",
        "\n",
        "for index, row in resultado.iterrows():\n",
        "    if row['valores_nulos'] != 0:\n",
        "        variables_con_nulos.append(row['columna'])\n",
        "\n",
        "print(f\"Las variables con valores nulos son: {variables_con_nulos}\")"
      ]
    },
    {
      "cell_type": "markdown",
      "metadata": {
        "id": "qlYW9h-qT-VT"
      },
      "source": [
        "d) (0.75 pts) Realiza un gráfico que muestre las correlaciones entre variables numéricas. ¿Hay alguna correlación fuerte o inesperada?"
      ]
    },
    {
      "cell_type": "code",
      "execution_count": null,
      "metadata": {
        "id": "buQgpNSrUCS3"
      },
      "outputs": [
        {
          "name": "stdout",
          "output_type": "stream",
          "text": [
            "                     Age  Fat_Percentage       BMI  Calories\n",
            "Age             1.000000       -0.025056 -0.016940 -0.041096\n",
            "Fat_Percentage -0.025056        1.000000  0.902341  0.759601\n",
            "BMI            -0.016940        0.902341  1.000000  0.837555\n",
            "Calories       -0.041096        0.759601  0.837555  1.000000\n"
          ]
        },
        {
          "data": {
            "image/png": "[encoded data removed]",
            "text/plain": [
              "<Figure size 1000x800 with 2 Axes>"
            ]
          },
          "metadata": {},
          "output_type": "display_data"
        },
        {
          "name": "stdout",
          "output_type": "stream",
          "text": [
            "ANALISIS DE LA CORRELACION:\n",
            "Fuerte Correlación entre Fat % y BMI\n",
            "Fuerte Correlación entre Fat % y Calories\n"
          ]
        }
      ],
      "source": [
        "\n",
        "\n",
        "#datos_numericos = lifeStyleData.select_dtypes(include=[np.float64]) nos sirve para ver correlaciones fuertes y escoger unas de prueba para que sea más visible\n",
        "columnas_deseadas = ['Age', 'Fat_Percentage', 'BMI','Calories']\n",
        "df_filtrado = lifeStyleData[columnas_deseadas]\n",
        "\n",
        "# Calculamos la matriz de correlación\n",
        "correlacion = df_filtrado.corr()\n",
        "\n",
        "print(correlacion)\n",
        "\n",
        "# Creamos el gráfico de correlaciones\n",
        "plt.figure(figsize=(10, 8))\n",
        "\n",
        "# Heatmap con seaborn\n",
        "sns.heatmap(correlacion, \n",
        "            annot=True,           # Muestra los valores\n",
        "            cmap='coolwarm',      # Paleta de colores\n",
        "            center=0,             # Centra la escala en 0\n",
        "            square=True,          # Celdas cuadradas\n",
        "            linewidths=1,         # Líneas entre celdas\n",
        "            cbar_kws={\"shrink\": 0.8},  # Barra de color\n",
        "            fmt='.3f',            # Formato de números\n",
        "            vmin=-1, vmax=1)      # Rango de -1 a 1\n",
        "\n",
        "plt.title('Matriz de Correlación - Variables Numéricas', \n",
        "          fontsize=16, fontweight='bold', pad=20)\n",
        "plt.tight_layout()\n",
        "plt.show()\n",
        "\n",
        "print(\"ANALISIS DE LA CORRELACION:\")\n",
        "print(\"Fuerte Correlación entre Fat % y BMI\")\n",
        "print(\"Fuerte Correlación entre Fat % y Calories\")"
      ]
    },
    {
      "cell_type": "markdown",
      "metadata": {
        "id": "xfw0EHuoUCk_"
      },
      "source": [
        "## Ejercicio 3 — Regresión básica (2 puntos)\n",
        "\n",
        "Queremos predecir una variable de salud continua, por ejemplo bmi.\n",
        "\n",
        "a) (0.25 pts) Define targetVar = \"bmi\" y selecciona 2–3 variables predictoras (por ejemplo sleepHours, activityLevel, calories). Guarda las columnas predictoras en X y la variable objetivo en y."
      ]
    },
    {
      "cell_type": "code",
      "execution_count": 85,
      "metadata": {
        "id": "3lGCNguAUGZe"
      },
      "outputs": [
        {
          "data": {
            "text/html": [
              "<div>\n",
              "<style scoped>\n",
              "    .dataframe tbody tr th:only-of-type {\n",
              "        vertical-align: middle;\n",
              "    }\n",
              "\n",
              "    .dataframe tbody tr th {\n",
              "        vertical-align: top;\n",
              "    }\n",
              "\n",
              "    .dataframe thead th {\n",
              "        text-align: right;\n",
              "    }\n",
              "</style>\n",
              "<table border=\"1\" class=\"dataframe\">\n",
              "  <thead>\n",
              "    <tr style=\"text-align: right;\">\n",
              "      <th></th>\n",
              "      <th>age</th>\n",
              "      <th>height</th>\n",
              "      <th>weight</th>\n",
              "      <th>targetVar</th>\n",
              "    </tr>\n",
              "  </thead>\n",
              "  <tbody>\n",
              "    <tr>\n",
              "      <th>0</th>\n",
              "      <td>34.91</td>\n",
              "      <td>1.62</td>\n",
              "      <td>65.27</td>\n",
              "      <td>24.87</td>\n",
              "    </tr>\n",
              "    <tr>\n",
              "      <th>1</th>\n",
              "      <td>23.37</td>\n",
              "      <td>1.55</td>\n",
              "      <td>56.41</td>\n",
              "      <td>23.48</td>\n",
              "    </tr>\n",
              "    <tr>\n",
              "      <th>2</th>\n",
              "      <td>33.20</td>\n",
              "      <td>1.67</td>\n",
              "      <td>58.98</td>\n",
              "      <td>21.15</td>\n",
              "    </tr>\n",
              "    <tr>\n",
              "      <th>3</th>\n",
              "      <td>38.69</td>\n",
              "      <td>1.70</td>\n",
              "      <td>93.78</td>\n",
              "      <td>32.45</td>\n",
              "    </tr>\n",
              "    <tr>\n",
              "      <th>4</th>\n",
              "      <td>45.09</td>\n",
              "      <td>1.88</td>\n",
              "      <td>52.42</td>\n",
              "      <td>14.83</td>\n",
              "    </tr>\n",
              "  </tbody>\n",
              "</table>\n",
              "</div>"
            ],
            "text/plain": [
              "     age  height  weight  targetVar\n",
              "0  34.91    1.62   65.27      24.87\n",
              "1  23.37    1.55   56.41      23.48\n",
              "2  33.20    1.67   58.98      21.15\n",
              "3  38.69    1.70   93.78      32.45\n",
              "4  45.09    1.88   52.42      14.83"
            ]
          },
          "execution_count": 85,
          "metadata": {},
          "output_type": "execute_result"
        }
      ],
      "source": [
        "lifeStyleData.head()\n",
        "new_data = {\n",
        "    'age': lifeStyleData['Age'],\n",
        "    'height':lifeStyleData['Height (m)'],\n",
        "    'weight':lifeStyleData['Weight (kg)'],\n",
        "    'targetVar':lifeStyleData['BMI']\n",
        "}\n",
        "new_df = pd.DataFrame(data=new_data, columns=['age','height','weight','targetVar'])\n",
        "new_df.head()"
      ]
    },
    {
      "cell_type": "markdown",
      "metadata": {
        "id": "8TpJdONMUGuE"
      },
      "source": [
        "b) (0.25 pts) Divide los datos en entrenamiento (70 %) y prueba (30 %)."
      ]
    },
    {
      "cell_type": "code",
      "execution_count": 87,
      "metadata": {
        "id": "d7q5Q7SNUP-G"
      },
      "outputs": [
        {
          "name": "stdout",
          "output_type": "stream",
          "text": [
            "============================================================\n",
            "📊 REGRESIÓN LINEAL\n",
            "============================================================\n",
            "✓ Modelo entrenado con 14000 muestras\n",
            "\n",
            "Métricas en test (6000 muestras):\n",
            "  R² Score: 0.9847\n",
            "  MAE:      0.5728\n",
            "  RMSE:     0.8372\n",
            "\n",
            "Coeficientes más importantes:\n",
            "  Variable  Coeficiente\n",
            "1   height   -28.202921\n",
            "2   weight     0.330767\n",
            "0      age     0.005276\n"
          ]
        }
      ],
      "source": [
        "def evaluar_linear_regression(df, target_col='targetVar'):\n",
        "    \"\"\"\n",
        "    Entrena y evalúa un modelo de Regresión Lineal.\n",
        "    \n",
        "    Parámetros:\n",
        "    -----------\n",
        "    df : DataFrame\n",
        "        DataFrame con todas las features y la columna target\n",
        "    target_col : str\n",
        "        Nombre de la columna target (por defecto 'target')\n",
        "    \n",
        "    Retorna:\n",
        "    --------\n",
        "    dict : Diccionario con el modelo entrenado y métricas de evaluación\n",
        "    \"\"\"\n",
        "    print(\"=\"*60)\n",
        "    print(\"📊 REGRESIÓN LINEAL\")\n",
        "    print(\"=\"*60)\n",
        "    \n",
        "    # Separar features y target\n",
        "    X = df.drop(target_col, axis=1)\n",
        "    y = df[target_col]\n",
        "    \n",
        "    # Dividir en train y test\n",
        "    X_train, X_test, y_train, y_test = train_test_split(\n",
        "        X, y, test_size=0.3, random_state=42\n",
        "    )\n",
        "    \n",
        "    # Entrenar modelo\n",
        "    modelo = LinearRegression()\n",
        "    modelo.fit(X_train, y_train)\n",
        "    \n",
        "    # Predecir\n",
        "    y_pred = modelo.predict(X_test)\n",
        "    \n",
        "    # Calcular métricas\n",
        "    r2 = r2_score(y_test, y_pred)\n",
        "    mae = mean_absolute_error(y_test, y_pred)\n",
        "    mse = mean_squared_error(y_test, y_pred)\n",
        "    rmse = np.sqrt(mse)\n",
        "    \n",
        "    # Mostrar resultados\n",
        "    print(f\"✓ Modelo entrenado con {X_train.shape[0]} muestras\")\n",
        "    print(f\"\\nMétricas en test ({X_test.shape[0]} muestras):\")\n",
        "    print(f\"  R² Score: {r2:.4f}\")\n",
        "    print(f\"  MAE:      {mae:.4f}\")\n",
        "    print(f\"  RMSE:     {rmse:.4f}\")\n",
        "    print(f\"\\nCoeficientes más importantes:\")\n",
        "    coefs = pd.DataFrame({\n",
        "        'Variable': X.columns,\n",
        "        'Coeficiente': modelo.coef_\n",
        "    }).sort_values('Coeficiente', key=abs, ascending=False)\n",
        "    print(coefs.head())\n",
        "    \n",
        "    return {\n",
        "        'modelo': modelo,\n",
        "        'r2': r2,\n",
        "        'mae': mae,\n",
        "        'rmse': rmse,\n",
        "        'coeficientes': coefs\n",
        "    }\n",
        "\n",
        "resultado = evaluar_linear_regression(new_df)"
      ]
    },
    {
      "cell_type": "markdown",
      "metadata": {
        "id": "yGs8HngOUR7K"
      },
      "source": [
        "c) (0.75 pts) Entrena un modelo de regresión lineal (LinearRegression) y calcula el R² y el MSE."
      ]
    },
    {
      "cell_type": "code",
      "execution_count": 92,
      "metadata": {
        "id": "nkH-KfUrUSv0"
      },
      "outputs": [
        {
          "name": "stdout",
          "output_type": "stream",
          "text": [
            "El valor del R2 es de 0.98\n",
            "El resultado de MSE es de 0.84\n"
          ]
        }
      ],
      "source": [
        "r2 = resultado.get('r2')\n",
        "print(f\"El valor del R2 es de {round(r2,2)}\")\n",
        "mse = resultado['rmse']\n",
        "print(f\"El resultado de MSE es de {round(mse, 2)}\")"
      ]
    },
    {
      "cell_type": "markdown",
      "metadata": {
        "id": "fozoFa3vUTah"
      },
      "source": [
        "d) (0.75 pts) Entrena un RandomForestRegressor con los mismos datos y compara resultados. ¿Cuál tiene mejor rendimiento?"
      ]
    },
    {
      "cell_type": "code",
      "execution_count": 116,
      "metadata": {
        "id": "0Me5YnFVUcPQ"
      },
      "outputs": [
        {
          "name": "stdout",
          "output_type": "stream",
          "text": [
            "============================================================\n",
            "RANDOM FOREST REGRESSOR\n",
            "============================================================\n",
            "✓ Modelo entrenado con 100 árboles\n",
            "\n",
            "Métricas en test:\n",
            "  R² Score: 0.9999\n",
            "  MAE:      0.0362\n",
            "  RMSE:     0.0798\n",
            "\n",
            "Variables más importantes:\n",
            "   Variable  Importancia\n",
            "2    weight     0.721020\n",
            "1    height     0.177519\n",
            "3  bmi_bool     0.100594\n",
            "0       age     0.000867\n",
            "{'modelo': RandomForestRegressor(n_jobs=-1, random_state=42), 'r2': 0.9998606337396808, 'mae': 0.03618784999999986, 'rmse': np.float64(0.0798286284382575), 'importancia':    Variable  Importancia\n",
            "2    weight     0.721020\n",
            "1    height     0.177519\n",
            "3  bmi_bool     0.100594\n",
            "0       age     0.000867}\n"
          ]
        }
      ],
      "source": [
        "def evaluar_random_forest_regressor(df, target_col='targetVar', n_estimators=100):\n",
        "    \"\"\"\n",
        "    Entrena y evalúa un modelo Random Forest para regresión.\n",
        "    \n",
        "    Parámetros:\n",
        "    -----------\n",
        "    df : DataFrame\n",
        "        DataFrame con todas las features y la columna target\n",
        "    target_col : str\n",
        "        Nombre de la columna target\n",
        "    n_estimators : int\n",
        "        Número de árboles (por defecto 100)\n",
        "    \n",
        "    Retorna:\n",
        "    --------\n",
        "    dict : Diccionario con el modelo entrenado y métricas\n",
        "    \"\"\"\n",
        "    print(\"=\"*60)\n",
        "    print(\"RANDOM FOREST REGRESSOR\")\n",
        "    print(\"=\"*60)\n",
        "    \n",
        "    # Separar features y target\n",
        "    X = df.drop(target_col, axis=1)\n",
        "    y = df[target_col]\n",
        "    \n",
        "    # Dividir en train y test\n",
        "    X_train, X_test, y_train, y_test = train_test_split(\n",
        "        X, y, test_size=0.3, random_state=42\n",
        "    )\n",
        "    \n",
        "    # Entrenar modelo\n",
        "    modelo = RandomForestRegressor(\n",
        "        n_estimators=n_estimators, \n",
        "        random_state=42, \n",
        "        n_jobs=-1\n",
        "    )\n",
        "    modelo.fit(X_train, y_train)\n",
        "    \n",
        "    # Predecir\n",
        "    y_pred = modelo.predict(X_test)\n",
        "    \n",
        "    # Calcular métricas\n",
        "    r2 = r2_score(y_test, y_pred)\n",
        "    mae = mean_absolute_error(y_test, y_pred)\n",
        "    mse = mean_squared_error(y_test, y_pred)\n",
        "    rmse = np.sqrt(mse)\n",
        "    \n",
        "    # Importancia de variables\n",
        "    importancia = pd.DataFrame({\n",
        "        'Variable': X.columns,\n",
        "        'Importancia': modelo.feature_importances_\n",
        "    }).sort_values('Importancia', ascending=False)\n",
        "    \n",
        "    # Mostrar resultados\n",
        "    print(f\"✓ Modelo entrenado con {n_estimators} árboles\")\n",
        "    print(f\"\\nMétricas en test:\")\n",
        "    print(f\"  R² Score: {r2:.4f}\")\n",
        "    print(f\"  MAE:      {mae:.4f}\")\n",
        "    print(f\"  RMSE:     {rmse:.4f}\")\n",
        "    print(f\"\\nVariables más importantes:\")\n",
        "    print(importancia.head())\n",
        "    \n",
        "    return {\n",
        "        'modelo': modelo,\n",
        "        'r2': r2,\n",
        "        'mae': mae,\n",
        "        'rmse': rmse,\n",
        "        'importancia': importancia\n",
        "    }\n",
        "\n",
        "resultados_rf = evaluar_random_forest_regressor(new_df)\n",
        "print(resultados_rf)"
      ]
    },
    {
      "cell_type": "code",
      "execution_count": 117,
      "metadata": {},
      "outputs": [
        {
          "name": "stdout",
          "output_type": "stream",
          "text": [
            "============================================================\n",
            "COMPARATIVA DE MODELOS\n",
            "============================================================\n",
            "1. R2\n",
            "\n",
            "R2(Linear Regression) = 0.985 vs R2(Random Forest) = 1.0\n",
            " Winner: Random Forest\n",
            "2. MSE\n",
            "\n",
            "MSE(Linear Regression) = 0.837 vs MSE(Random Forest) = 0.08\n",
            " Winner: Random Forest\n",
            "\n",
            "FINAL WINNER: RANDOM FOREST\n"
          ]
        }
      ],
      "source": [
        "print(\"=\"*60)\n",
        "print(\"COMPARATIVA DE MODELOS\")\n",
        "print(\"=\"*60)\n",
        "\n",
        "print(\"1. R2\\n\")\n",
        "print(f\"R2(Linear Regression) = {round(r2,3)} vs R2(Random Forest) = {round(resultados_rf.get('r2'),3)}\\n Winner: Random Forest\")\n",
        "print(\"2. MSE\\n\")\n",
        "print(f\"MSE(Linear Regression) = {round(mse,3)} vs MSE(Random Forest) = {round(resultados_rf.get('rmse'),3)}\\n Winner: Random Forest\\n\")\n",
        "print(\"FINAL WINNER: RANDOM FOREST\")\n"
      ]
    },
    {
      "cell_type": "markdown",
      "metadata": {
        "id": "DIupTYHLUd4I"
      },
      "source": [
        "## Ejercicio 4 — Clasificación sencilla (2 puntos)\n",
        "\n",
        "Crea una nueva variable binaria que indique si el IMC está dentro del rango saludable.\n",
        "\n",
        "a) (0.25 pts) Crea una nueva columna bmiHealthy donde el valor sea 1 si bmi está entre 18.5 y 24.9, y 0 en caso contrario."
      ]
    },
    {
      "cell_type": "code",
      "execution_count": null,
      "metadata": {
        "id": "c95n3xjoUhbk"
      },
      "outputs": [
        {
          "data": {
            "text/html": [
              "<div>\n",
              "<style scoped>\n",
              "    .dataframe tbody tr th:only-of-type {\n",
              "        vertical-align: middle;\n",
              "    }\n",
              "\n",
              "    .dataframe tbody tr th {\n",
              "        vertical-align: top;\n",
              "    }\n",
              "\n",
              "    .dataframe thead th {\n",
              "        text-align: right;\n",
              "    }\n",
              "</style>\n",
              "<table border=\"1\" class=\"dataframe\">\n",
              "  <thead>\n",
              "    <tr style=\"text-align: right;\">\n",
              "      <th></th>\n",
              "      <th>age</th>\n",
              "      <th>height</th>\n",
              "      <th>weight</th>\n",
              "      <th>targetVar</th>\n",
              "      <th>bmi_bool</th>\n",
              "    </tr>\n",
              "  </thead>\n",
              "  <tbody>\n",
              "    <tr>\n",
              "      <th>0</th>\n",
              "      <td>34.91</td>\n",
              "      <td>1.62</td>\n",
              "      <td>65.27</td>\n",
              "      <td>24.87</td>\n",
              "      <td>1</td>\n",
              "    </tr>\n",
              "    <tr>\n",
              "      <th>1</th>\n",
              "      <td>23.37</td>\n",
              "      <td>1.55</td>\n",
              "      <td>56.41</td>\n",
              "      <td>23.48</td>\n",
              "      <td>1</td>\n",
              "    </tr>\n",
              "    <tr>\n",
              "      <th>2</th>\n",
              "      <td>33.20</td>\n",
              "      <td>1.67</td>\n",
              "      <td>58.98</td>\n",
              "      <td>21.15</td>\n",
              "      <td>1</td>\n",
              "    </tr>\n",
              "    <tr>\n",
              "      <th>3</th>\n",
              "      <td>38.69</td>\n",
              "      <td>1.70</td>\n",
              "      <td>93.78</td>\n",
              "      <td>32.45</td>\n",
              "      <td>0</td>\n",
              "    </tr>\n",
              "    <tr>\n",
              "      <th>4</th>\n",
              "      <td>45.09</td>\n",
              "      <td>1.88</td>\n",
              "      <td>52.42</td>\n",
              "      <td>14.83</td>\n",
              "      <td>0</td>\n",
              "    </tr>\n",
              "  </tbody>\n",
              "</table>\n",
              "</div>"
            ],
            "text/plain": [
              "     age  height  weight  targetVar  bmi_bool\n",
              "0  34.91    1.62   65.27      24.87         1\n",
              "1  23.37    1.55   56.41      23.48         1\n",
              "2  33.20    1.67   58.98      21.15         1\n",
              "3  38.69    1.70   93.78      32.45         0\n",
              "4  45.09    1.88   52.42      14.83         0"
            ]
          },
          "execution_count": 114,
          "metadata": {},
          "output_type": "execute_result"
        }
      ],
      "source": [
        "# Refactorizar para caso de uso específico \n",
        "def saludable_bool(imcValue):\n",
        "    if imcValue < 18.5:\n",
        "        a = 0\n",
        "    elif 18.5 <= imcValue < 25:\n",
        "        a = 1\n",
        "    else: \n",
        "        a = 0\n",
        "    return a\n",
        "\n",
        "# Definir lista vacía \n",
        "values = []\n",
        "\n",
        "# Recorrer row targetVar\n",
        "for index, row in new_df.iterrows():\n",
        "    a = saludable_bool(row['targetVar'])\n",
        "    values.append(a)\n",
        "\n",
        "# Guardar variable nueva\n",
        "new_df[\"bmi_bool\"]=values\n",
        "new_df.head()\n"
      ]
    },
    {
      "cell_type": "markdown",
      "metadata": {
        "id": "F65J5M78Uhus"
      },
      "source": [
        "b) (0.75 pts) Entrena un modelo de regresión logística (LogisticRegression) para predecir bmiHealthy usando algunas variables de estilo de vida (por ejemplo sleepHours, activityLevel, calories)."
      ]
    },
    {
      "cell_type": "code",
      "execution_count": null,
      "metadata": {},
      "outputs": [
        {
          "name": "stdout",
          "output_type": "stream",
          "text": [
            "============================================================\n",
            "🎯 LINEAR SVM (Clasificación)\n",
            "============================================================\n",
            "✓ Modelo entrenado\n",
            "\n",
            "Accuracy en test: 0.5960\n",
            "\n",
            "Reporte de clasificación:\n",
            "              precision    recall  f1-score   support\n",
            "\n",
            "           0       0.64      0.79      0.71      2459\n",
            "           1       0.46      0.29      0.35      1541\n",
            "\n",
            "    accuracy                           0.60      4000\n",
            "   macro avg       0.55      0.54      0.53      4000\n",
            "weighted avg       0.57      0.60      0.57      4000\n",
            "\n",
            "\n",
            "Matriz de confusión:\n",
            "[[1940  519]\n",
            " [1097  444]]\n"
          ]
        }
      ],
      "source": [
        "\n",
        "def evaluar_logistic_regression(df, target_col='bmi_bool', max_iter=1000):\n",
        "    \"\"\"\n",
        "    Entrena y evalúa un modelo Linear SVM para clasificación.\n",
        "    \n",
        "    Parámetros:\n",
        "    -----------\n",
        "    df : DataFrame\n",
        "        DataFrame con todas las features y la columna target\n",
        "    target_col : str\n",
        "        Nombre de la columna target\n",
        "    max_iter : int\n",
        "        Número máximo de iteraciones\n",
        "    \n",
        "    Retorna:\n",
        "    --------\n",
        "    dict : Diccionario con el modelo entrenado y métricas\n",
        "    \"\"\"\n",
        "    print(\"=\"*60)\n",
        "    print(\"🎯 LINEAR SVM (Clasificación)\")\n",
        "    print(\"=\"*60)\n",
        "    \n",
        "    # Separar features y target\n",
        "    X = df.drop(target_col, axis=1)\n",
        "    y = df[target_col]\n",
        "    \n",
        "    # Dividir en train y test\n",
        "    X_train, X_test, y_train, y_test = train_test_split(\n",
        "        X, y, test_size=0.2, random_state=42, stratify=y\n",
        "    )\n",
        "    \n",
        "    # Escalar datos (importante para SVM)\n",
        "    scaler = StandardScaler()\n",
        "    X_train_scaled = scaler.fit_transform(X_train)\n",
        "    X_test_scaled = scaler.transform(X_test)\n",
        "    \n",
        "    # Entrenar modelo\n",
        "    modelo = LogisticRegression(max_iter=max_iter, random_state=42)\n",
        "    modelo.fit(X_train_scaled, y_train)\n",
        "    \n",
        "    # Predecir\n",
        "    y_pred = modelo.predict(X_test_scaled)\n",
        "    \n",
        "    # Calcular métricas\n",
        "    accuracy = modelo.score(X_test_scaled, y_test)\n",
        "    \n",
        "    # Mostrar resultados\n",
        "    print(f\"✓ Modelo entrenado\")\n",
        "    print(f\"\\nAccuracy en test: {accuracy:.4f}\")\n",
        "    print(f\"\\nReporte de clasificación:\")\n",
        "    print(classification_report(y_test, y_pred))\n",
        "    print(f\"\\nMatriz de confusión:\")\n",
        "    print(confusion_matrix(y_test, y_pred))\n",
        "    \n",
        "    return {\n",
        "        'y_pred': y_pred, \n",
        "        'y_test': y_test,\n",
        "        'modelo': modelo,\n",
        "        'scaler': scaler,\n",
        "        'accuracy': accuracy,\n",
        "        'classification_report': classification_report(y_test, y_pred, output_dict=True),\n",
        "        'confusion_matrix': confusion_matrix(y_test, y_pred)\n",
        "    }\n",
        "\n",
        "result = evaluar_logistic_regression(new_df)\n"
      ]
    },
    {
      "cell_type": "markdown",
      "metadata": {
        "id": "t2zVo1tRUj9o"
      },
      "source": [
        "c) (0.25 pts) Calcula la exactitud (accuracy) del modelo y muestra la matriz de confusión.\n"
      ]
    },
    {
      "cell_type": "code",
      "execution_count": 129,
      "metadata": {
        "id": "D3q0Hzu_UmT5"
      },
      "outputs": [
        {
          "name": "stdout",
          "output_type": "stream",
          "text": [
            "Accuracy del modelo: 0.596\n",
            "✓ Visualización guardada como 'viz_modelo.png'\n"
          ]
        },
        {
          "data": {
            "image/png": "[encoded data removed]",
            "text/plain": [
              "<Figure size 1400x1000 with 5 Axes>"
            ]
          },
          "metadata": {},
          "output_type": "display_data"
        }
      ],
      "source": [
        "print(f\"Accuracy del modelo: {result.get('accuracy')}\")\n",
        "\n",
        "def visualizar_clasificacion(resultado, y_test, y_pred, nombre_modelo=\"Modelo\"):\n",
        "    \"\"\"\n",
        "    Crea visualizaciones para modelos de clasificación.\n",
        "    \n",
        "    Parámetros:\n",
        "    -----------\n",
        "    resultado : dict\n",
        "        Diccionario retornado por las funciones de evaluación\n",
        "    y_test : array\n",
        "        Etiquetas reales de test\n",
        "    y_pred : array\n",
        "        Etiquetas predichas\n",
        "    nombre_modelo : str\n",
        "        Nombre del modelo\n",
        "    \"\"\"\n",
        "    fig, axes = plt.subplots(2, 2, figsize=(14, 10))\n",
        "    \n",
        "    # 1. Matriz de Confusión\n",
        "    cm = confusion_matrix(y_test, y_pred)\n",
        "    sns.heatmap(cm, annot=True, fmt='d', cmap='Blues', ax=axes[0, 0], \n",
        "                cbar_kws={'label': 'Número de muestras'}, linewidths=1, linecolor='black')\n",
        "    axes[0, 0].set_xlabel('Predicho', fontsize=11)\n",
        "    axes[0, 0].set_ylabel('Real', fontsize=11)\n",
        "    axes[0, 0].set_title('Matriz de Confusión', fontweight='bold')\n",
        "    \n",
        "    # 2. Métricas por Clase\n",
        "    report_dict = resultado['classification_report']\n",
        "    clases = [k for k in report_dict.keys() if k not in ['accuracy', 'macro avg', 'weighted avg']]\n",
        "    \n",
        "    if clases:\n",
        "        precision = [report_dict[c]['precision'] for c in clases]\n",
        "        recall = [report_dict[c]['recall'] for c in clases]\n",
        "        f1 = [report_dict[c]['f1-score'] for c in clases]\n",
        "        \n",
        "        x = np.arange(len(clases))\n",
        "        width = 0.25\n",
        "        \n",
        "        axes[0, 1].bar(x - width, precision, width, label='Precision', color='steelblue', edgecolor='black')\n",
        "        axes[0, 1].bar(x, recall, width, label='Recall', color='coral', edgecolor='black')\n",
        "        axes[0, 1].bar(x + width, f1, width, label='F1-Score', color='green', edgecolor='black')\n",
        "        \n",
        "        axes[0, 1].set_xlabel('Clase', fontsize=11)\n",
        "        axes[0, 1].set_ylabel('Score', fontsize=11)\n",
        "        axes[0, 1].set_title('Métricas por Clase', fontweight='bold')\n",
        "        axes[0, 1].set_xticks(x)\n",
        "        axes[0, 1].set_xticklabels(clases)\n",
        "        axes[0, 1].legend()\n",
        "        axes[0, 1].set_ylim([0, 1.1])\n",
        "        axes[0, 1].grid(True, alpha=0.3, axis='y')\n",
        "    \n",
        "    # 3. Distribución de Predicciones\n",
        "    unique_pred, counts_pred = np.unique(y_pred, return_counts=True)\n",
        "    axes[1, 0].bar(unique_pred, counts_pred, color='lightcoral', edgecolor='black', alpha=0.7)\n",
        "    axes[1, 0].set_xlabel('Clase', fontsize=11)\n",
        "    axes[1, 0].set_ylabel('Número de Predicciones', fontsize=11)\n",
        "    axes[1, 0].set_title('Distribución de Predicciones', fontweight='bold')\n",
        "    axes[1, 0].grid(True, alpha=0.3, axis='y')\n",
        "    \n",
        "    # 4. Accuracy Global\n",
        "    accuracy_texto = f\"Accuracy: {resultado['accuracy']:.4f}\"\n",
        "    axes[1, 1].text(0.5, 0.5, accuracy_texto, \n",
        "                    ha='center', va='center', fontsize=20, \n",
        "                    bbox=dict(boxstyle='round', facecolor='lightgreen', alpha=0.8))\n",
        "    axes[1, 1].set_xlim(0, 1)\n",
        "    axes[1, 1].set_ylim(0, 1)\n",
        "    axes[1, 1].axis('off')\n",
        "    axes[1, 1].set_title('Accuracy Global', fontweight='bold')\n",
        "    \n",
        "    plt.tight_layout()\n",
        "    plt.savefig(f'viz_{nombre_modelo.lower().replace(\" \", \"_\")}.png', dpi=300, bbox_inches='tight')\n",
        "    print(f\"✓ Visualización guardada como 'viz_{nombre_modelo.lower().replace(' ', '_')}.png'\")\n",
        "    plt.show()\n",
        "\n",
        "\n",
        "visualizar_clasificacion(result, result.get('y_test'), result['y_pred'])"
      ]
    },
    {
      "cell_type": "markdown",
      "metadata": {
        "id": "H8MWudWBUngY"
      },
      "source": [
        "d) (0.75 pts) Explica qué variable parece influir más según el modelo."
      ]
    },
    {
      "cell_type": "code",
      "execution_count": null,
      "metadata": {
        "id": "qKdONBvPU1Pn"
      },
      "outputs": [],
      "source": []
    },
    {
      "cell_type": "markdown",
      "metadata": {
        "id": "dnuHNl1HU1sV"
      },
      "source": [
        "## Ejercicio 5 — Conclusión (1 punto)\n",
        "\n",
        "En un máximo de 300 palabras, resume:\n",
        "\n",
        "*   Qué hábitos parecen tener mayor relación con el estado de salud.\n",
        "\n",
        "*   Qué modelo fue más eficaz y por qué.\n",
        "\n",
        "*   Qué podrías mejorar si tuvieras más tiempo o datos.\n",
        "\n"
      ]
    },
    {
      "cell_type": "markdown",
      "metadata": {},
      "source": [
        "Las variables que mas parecen influir son: la edad, el peso, el bmi y las variables relacionadas con las calorías. \n",
        "El random forest es el que mejor resultado mostrón. \n",
        "Ajustaría mejor el modelo y probaría más variables. "
      ]
    },
    {
      "cell_type": "markdown",
      "metadata": {},
      "source": []
    }
  ],
  "metadata": {
    "colab": {
      "provenance": []
    },
    "kernelspec": {
      "display_name": "Python 3",
      "name": "python3"
    },
    "language_info": {
      "codemirror_mode": {
        "name": "ipython",
        "version": 3
      },
      "file_extension": ".py",
      "mimetype": "text/x-python",
      "name": "python",
      "nbconvert_exporter": "python",
      "pygments_lexer": "ipython3",
      "version": "3.13.7"
    }
  },
  "nbformat": 4,
  "nbformat_minor": 0
}
